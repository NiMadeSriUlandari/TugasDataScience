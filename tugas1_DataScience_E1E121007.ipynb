{
 "cells": [
  {
   "cell_type": "markdown",
   "id": "3f4b663c",
   "metadata": {},
   "source": [
    "# Week 1 Review Exercises\n"
   ]
  },
  {
   "cell_type": "markdown",
   "id": "ada58c46",
   "metadata": {},
   "source": [
    "Q1. Data Types\n",
    "\n",
    "What is the data type of the variable `pop`?"
   ]
  },
  {
   "cell_type": "code",
   "execution_count": null,
   "id": "e1bf6c5e",
   "metadata": {},
   "outputs": [],
   "source": [
    "pop = 5.8\n"
   ]
  },
  {
   "cell_type": "code",
   "execution_count": 6,
   "id": "caf77385",
   "metadata": {},
   "outputs": [],
   "source": [
    "# use a suitable function to check your answer\n"
   ]
  },
  {
   "cell_type": "code",
   "execution_count": 7,
   "id": "8bc7749a",
   "metadata": {},
   "outputs": [
    {
     "name": "stdout",
     "output_type": "stream",
     "text": [
      "<class 'float'>\n"
     ]
    }
   ],
   "source": [
    "#jawaban\n",
    "pop = 5.8\n",
    "print(type(pop))"
   ]
  },
  {
   "cell_type": "markdown",
   "id": "b19b8600",
   "metadata": {},
   "source": [
    "Q2. Which of the following is a valid variable name of of population below 15 years old?\n"
   ]
  },
  {
   "cell_type": "code",
   "execution_count": 4,
   "id": "fa3e5e24",
   "metadata": {},
   "outputs": [
    {
     "ename": "SyntaxError",
     "evalue": "invalid decimal literal (2832805046.py, line 2)",
     "output_type": "error",
     "traceback": [
      "\u001b[1;36m  Cell \u001b[1;32mIn[4], line 2\u001b[1;36m\u001b[0m\n\u001b[1;33m    15_years_and_below = 12.33\u001b[0m\n\u001b[1;37m      ^\u001b[0m\n\u001b[1;31mSyntaxError\u001b[0m\u001b[1;31m:\u001b[0m invalid decimal literal\n"
     ]
    }
   ],
   "source": [
    "# which line won't give an error? Comment out the ones that do!\n",
    "15_years_and_below = 12.33\n",
    "%_pop_15_below = 12.33\n",
    "_15&below_pop = 12.33\n",
    "_15_below_pop = 12.33"
   ]
  },
  {
   "cell_type": "code",
   "execution_count": 3,
   "id": "e028479b",
   "metadata": {},
   "outputs": [],
   "source": [
    "#jawaban\n",
    "# Valid variable names\n",
    "fifteen_years_and_below = 12.33\n",
    "_15_below_pop = 12.33\n",
    "\n",
    "# Invalid variable names (commented out)\n",
    "# %_pop_15_below = 12.33\n",
    "# _15&below_pop = 12.33\n"
   ]
  },
  {
   "cell_type": "markdown",
   "id": "6227288b",
   "metadata": {},
   "source": [
    "Q3. What will be stored in `result`?"
   ]
  },
  {
   "cell_type": "code",
   "execution_count": 5,
   "id": "5e4cfdfd",
   "metadata": {},
   "outputs": [],
   "source": [
    "result = 3 + 4 ** 2 - (5 // 2)\n"
   ]
  },
  {
   "cell_type": "code",
   "execution_count": 27,
   "id": "54a05495",
   "metadata": {},
   "outputs": [
    {
     "name": "stdout",
     "output_type": "stream",
     "text": [
      "17\n"
     ]
    }
   ],
   "source": [
    "#jawban\n",
    "result = 3 + 4 ** 2 - (5 // 2)\n",
    "print(result)\n"
   ]
  },
  {
   "cell_type": "markdown",
   "id": "4b2b1ba6",
   "metadata": {},
   "source": [
    "Q4. If Singapore has an estimated population of 5.85 million and the land area is 700 square kilometers, what is the population density (number of people per KM)? \n"
   ]
  },
  {
   "cell_type": "code",
   "execution_count": null,
   "id": "3b3dd8d9",
   "metadata": {},
   "outputs": [],
   "source": [
    "# Estimated total Population of Singapore, in millions\n",
    "total_pop_millions = 5.85\n",
    "\n",
    "# Total land area, in KM\n",
    "land_area = 700\n",
    "\n",
    "# How many people are there per KM?\n"
   ]
  },
  {
   "cell_type": "code",
   "execution_count": 28,
   "id": "e6913005",
   "metadata": {},
   "outputs": [
    {
     "name": "stdout",
     "output_type": "stream",
     "text": [
      "Population density in people per KM: 8.357142857142858\n"
     ]
    }
   ],
   "source": [
    "#jawaban\n",
    "# Estimated total Population of Singapore, in millions\n",
    "total_pop_millions = 5.85\n",
    "\n",
    "# Total land area, in KM\n",
    "land_area = 700\n",
    "\n",
    "# Calculate population density (people per KM)\n",
    "population_density = total_pop_millions * 1000 / land_area\n",
    "\n",
    "print(\"Population density in people per KM:\", population_density)\n"
   ]
  },
  {
   "cell_type": "markdown",
   "id": "8a8b4f48",
   "metadata": {},
   "source": [
    "Q5. Write a function called `pop_density()` that receives two arguments:\n",
    "1. the population, recorded in millions, `population_mil`\n",
    "2. the land area, in square kilometres, `land_area_sqkm`\n",
    "\n",
    "The function should calculate and return the population density. \n"
   ]
  },
  {
   "cell_type": "code",
   "execution_count": 30,
   "id": "cec3ad43",
   "metadata": {},
   "outputs": [
    {
     "name": "stdout",
     "output_type": "stream",
     "text": [
      "Population density in people per KM: 8.357142857142858\n"
     ]
    }
   ],
   "source": [
    "# Write the function here\n",
    "def pop_density(population_mil, land_area_sqkm):\n",
    "    # Calculate population density (people per KM)\n",
    "    population_density = population_mil * 1000 / land_area_sqkm\n",
    "    return population_density\n",
    "\n",
    "# Example usage:\n",
    "total_pop_millions = 5.85\n",
    "land_area = 700\n",
    "density = pop_density(total_pop_millions, land_area)\n",
    "print(\"Population density in people per KM:\", density)\n",
    "\n"
   ]
  },
  {
   "cell_type": "markdown",
   "id": "9c7711c8",
   "metadata": {},
   "source": [
    "Q6. Call the function you have written to calculate and display the population density of Hong Kong: 7.50 million people in a land area of 1050 km squared \n"
   ]
  },
  {
   "cell_type": "code",
   "execution_count": 31,
   "id": "a2b27625",
   "metadata": {},
   "outputs": [
    {
     "name": "stdout",
     "output_type": "stream",
     "text": [
      "Population density of Hong Kong: 7.142857142857143 people per KM\n"
     ]
    }
   ],
   "source": [
    "# Call the function \n",
    "# Define the population and land area for Hong Kong\n",
    "hong_kong_population_mil = 7.50\n",
    "hong_kong_land_area_sqkm = 1050\n",
    "\n",
    "# Calculate the population density using the function\n",
    "hong_kong_density = pop_density(hong_kong_population_mil, hong_kong_land_area_sqkm)\n",
    "\n",
    "# Display the population density\n",
    "print(\"Population density of Hong Kong:\", hong_kong_density, \"people per KM\")\n",
    "\n"
   ]
  },
  {
   "cell_type": "markdown",
   "id": "43cbdd91",
   "metadata": {},
   "source": [
    "Q7. Using the `pop_density()` function, calculate the population density of Singapore and then use comparison operators to compare the population densities of Singapore and Hong Kong.\n",
    "\n",
    "Singapore's population: 5.85 million\n",
    "Singapore's land area: 700 sq km\n",
    "\n",
    "(Data From [Worldometers](http://worldometers.info))\n"
   ]
  },
  {
   "cell_type": "code",
   "execution_count": 32,
   "id": "626d47c8",
   "metadata": {},
   "outputs": [
    {
     "name": "stdout",
     "output_type": "stream",
     "text": [
      "Singapore has a higher population density than Hong Kong.\n"
     ]
    }
   ],
   "source": [
    "# use the function\n",
    "# Define the population and land area for Singapore\n",
    "singapore_population_mil = 5.85\n",
    "singapore_land_area_sqkm = 700\n",
    "\n",
    "# Calculate the population density for Singapore using the function\n",
    "singapore_density = pop_density(singapore_population_mil, singapore_land_area_sqkm)\n",
    "\n",
    "# Calculate the population density for Hong Kong (already calculated)\n",
    "\n",
    "# Compare population densities\n",
    "if singapore_density > hong_kong_density:\n",
    "    print(\"Singapore has a higher population density than Hong Kong.\")\n",
    "elif singapore_density < hong_kong_density:\n",
    "    print(\"Hong Kong has a higher population density than Singapore.\")\n",
    "else:\n",
    "    print(\"Singapore and Hong Kong have the same population density.\")\n"
   ]
  },
  {
   "cell_type": "markdown",
   "id": "cc1768c5",
   "metadata": {},
   "source": [
    "Q8. Let's add another area to compare: Macao's population is 0.65 million in a land area of 30 sq km. Find out whether Singapore's population density is higher than BOTH Hong Kong and Macao."
   ]
  },
  {
   "cell_type": "code",
   "execution_count": 33,
   "id": "55aeec5c",
   "metadata": {},
   "outputs": [
    {
     "name": "stdout",
     "output_type": "stream",
     "text": [
      "Singapore has a higher population density than Hong Kong but not Macao.\n"
     ]
    }
   ],
   "source": [
    "# Calculate Macao's density (use the function!)\n",
    "# Define the population and land area for Macao\n",
    "macao_population_mil = 0.65\n",
    "macao_land_area_sqkm = 30\n",
    "\n",
    "# Calculate the population density for Macao using the function\n",
    "macao_density = pop_density(macao_population_mil, macao_land_area_sqkm)\n",
    "\n",
    "# Compare population densities\n",
    "singapore_density = pop_density(5.85, 700)\n",
    "\n",
    "if singapore_density > hong_kong_density and singapore_density > macao_density:\n",
    "    print(\"Singapore has a higher population density than both Hong Kong and Macao.\")\n",
    "elif singapore_density > hong_kong_density:\n",
    "    print(\"Singapore has a higher population density than Hong Kong but not Macao.\")\n",
    "elif singapore_density > macao_density:\n",
    "    print(\"Singapore has a higher population density than Macao but not Hong Kong.\")\n",
    "else:\n",
    "    print(\"Singapore's population density is not higher than Hong Kong or Macao.\")\n"
   ]
  },
  {
   "cell_type": "markdown",
   "id": "66b284ff",
   "metadata": {},
   "source": [
    "Q9. Write a function called compare_density() that receives two arguments representing the population densities of two areas. The function will compare the two values and print one of the following strings:\n",
    "- “Area 1 has higher density”\n",
    "- “Area 2 has higher density”\n",
    "- “Both areas have the same density”"
   ]
  },
  {
   "cell_type": "code",
   "execution_count": 34,
   "id": "63351d63",
   "metadata": {},
   "outputs": [],
   "source": [
    "# Write the function\n",
    "def compare_density(area1_density, area2_density):\n",
    "    if area1_density > area2_density:\n",
    "        print(\"Area 1 has higher density\")\n",
    "    elif area1_density < area2_density:\n",
    "        print(\"Area 2 has higher density\")\n",
    "    else:\n",
    "        print(\"Both areas have the same density\")\n",
    "\n",
    "# Example usage:\n",
    "density_area1 = 7142.857142857143  # Population density of Hong Kong\n",
    "density_area2 = 21.666666666666668  # Population density of Macao\n"
   ]
  },
  {
   "cell_type": "markdown",
   "id": "0e7c4ab1",
   "metadata": {},
   "source": [
    "Then we can test the function by passing the values of `sg_density` and `hk_density` as arguments."
   ]
  },
  {
   "cell_type": "code",
   "execution_count": 35,
   "id": "6f1a4362",
   "metadata": {},
   "outputs": [
    {
     "name": "stdout",
     "output_type": "stream",
     "text": [
      "Area 1 has higher density\n"
     ]
    }
   ],
   "source": [
    "compare_density(sg_density, hk_density)"
   ]
  },
  {
   "cell_type": "markdown",
   "id": "49fae04b",
   "metadata": {},
   "source": [
    "Q10. What will be the result of the following loop?\n",
    "\n",
    "```\n",
    "for year in range(2022, 2031, 2):\n",
    "    print(year)\n",
    "```"
   ]
  },
  {
   "cell_type": "code",
   "execution_count": 36,
   "id": "48ab8047",
   "metadata": {},
   "outputs": [
    {
     "name": "stdout",
     "output_type": "stream",
     "text": [
      "2022\n",
      "2024\n",
      "2026\n",
      "2028\n",
      "2030\n"
     ]
    }
   ],
   "source": [
    "# Type in the code for the loop given above and execute to check your answer\n",
    "for year in range(2022, 2031, 2):\n",
    "    print(year)"
   ]
  },
  {
   "cell_type": "markdown",
   "id": "359280f1",
   "metadata": {},
   "source": [
    "Q.11 Write a function projected_population() that receives three arguments:\n",
    "- Current population, in millions\n",
    "- Growth rate\n",
    "- Current year\n"
   ]
  },
  {
   "cell_type": "markdown",
   "id": "43b00110",
   "metadata": {},
   "source": [
    "The function should:\n",
    "- set the projected population to the current population\n",
    "- set the projected year to the current year\n",
    "- calculate the difference between the projected population and current population\n",
    "\n",
    "while the difference is between -1 and 1:\n",
    "1. print the projected year and the projected population\n",
    "2. calculate the projected population = projected population + projected population * growth rate / 100\n",
    "3. update the projected year \n",
    "4. recalculate the difference between the projected propulation and current population"
   ]
  },
  {
   "cell_type": "code",
   "execution_count": 37,
   "id": "8e62f54e",
   "metadata": {},
   "outputs": [],
   "source": [
    "def projected_population(current_pop, growth_rate, current_year):\n",
    "    # complete the function according to the guide\n",
    "    projected_population = current_pop\n",
    "    projected_year = current_year\n",
    "    diff = projected_population - current_pop\n",
    "\n",
    "    while -1 < diff < 1:\n",
    "        print(f\"Year: {projected_year}, Population: {projected_population}\")\n",
    "        projected_population += projected_population * (growth_rate / 100)\n",
    "        projected_year += 1\n",
    "        diff = projected_population - current_pop  \n",
    "    \n",
    "\n"
   ]
  },
  {
   "cell_type": "code",
   "execution_count": 38,
   "id": "35c3f670",
   "metadata": {},
   "outputs": [
    {
     "name": "stdout",
     "output_type": "stream",
     "text": [
      "Thailand's population growth\n",
      "Year: 2020, Population: 69.8\n",
      "Year: 2021, Population: 70.0094\n",
      "Year: 2022, Population: 70.2194282\n",
      "Year: 2023, Population: 70.4300864846\n",
      "Year: 2024, Population: 70.6413767440538\n"
     ]
    }
   ],
   "source": [
    "# testing with Thailand\n",
    "print(\"Thailand's population growth\")\n",
    "projected_population(current_pop = 69.8, growth_rate = 0.3, current_year = 2020)"
   ]
  },
  {
   "cell_type": "markdown",
   "id": "09df059d",
   "metadata": {},
   "source": [
    "Q.12 Write a function called `string_info()` which takes in a string argument and returns four values:\n",
    "- the first 3 characters\n",
    "- last 3 characters\n",
    "- the number of characters in the string\n",
    "- the string with each word capitalized"
   ]
  },
  {
   "cell_type": "code",
   "execution_count": 24,
   "id": "254d3e0c",
   "metadata": {},
   "outputs": [],
   "source": [
    "def string_info(word): \n",
    "    # complete the function\n",
    "    first_three_chars = word[:3]\n",
    "    last_three_chars = word[-3:]\n",
    "    num_characters = len(word)\n",
    "    capitalized_word = word.title()\n",
    "    \n",
    "    return first_three_chars, last_three_chars, num_characters, capitalized_word\n"
   ]
  },
  {
   "cell_type": "code",
   "execution_count": 25,
   "id": "5858639b",
   "metadata": {},
   "outputs": [],
   "source": [
    "#calling the function\n",
    "start, end, num, title = string_info(\"data science\")\n"
   ]
  },
  {
   "cell_type": "code",
   "execution_count": 26,
   "id": "f286a42c",
   "metadata": {},
   "outputs": [
    {
     "name": "stdout",
     "output_type": "stream",
     "text": [
      "('dat', 'nce', 12, 'Data Science')\n"
     ]
    }
   ],
   "source": [
    "# print what's returned\n",
    "print(string_info(\"data science\"))"
   ]
  },
  {
   "cell_type": "markdown",
   "id": "f33e1677",
   "metadata": {},
   "source": [
    "# Congratulations! \n",
    "\n",
    "You have reached the end of this notebook! Hope you have been able to practice and review the fundamental concepts in Python coding and we will do more next week!"
   ]
  }
 ],
 "metadata": {
  "kernelspec": {
   "display_name": "Python 3 (ipykernel)",
   "language": "python",
   "name": "python3"
  },
  "language_info": {
   "codemirror_mode": {
    "name": "ipython",
    "version": 3
   },
   "file_extension": ".py",
   "mimetype": "text/x-python",
   "name": "python",
   "nbconvert_exporter": "python",
   "pygments_lexer": "ipython3",
   "version": "3.11.4"
  }
 },
 "nbformat": 4,
 "nbformat_minor": 5
}
